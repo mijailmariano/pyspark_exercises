{
 "cells": [
  {
   "cell_type": "code",
   "execution_count": 91,
   "metadata": {},
   "outputs": [],
   "source": [
    "# notebook dependencies\n",
    "import pyspark\n",
    "from pyspark.sql.functions import col, expr\n",
    "from pyspark.sql.functions import regexp_extract, regexp_replace\n",
    "\n",
    "# note: the pyspark avg and mean functions are aliases of eachother\n",
    "from pyspark.sql.functions import concat, sum, avg, min, max, count, mean, lit\n",
    "\n",
    "# note: the following import, imports all pyspark sql functions similar to above\n",
    "from pyspark.sql.functions import *\n",
    "\n",
    "# creating the spark instance\n",
    "spark = pyspark.sql.SparkSession.builder.getOrCreate()\n",
    "\n",
    "# pandas, numpy, and matplotlib imports\n",
    "import pandas as pd\n",
    "import numpy as np\n",
    "import matplotlib.pyplot as plt \n",
    "\n",
    "# pydatasets\n",
    "from pydataset import data\n",
    "\n",
    "# tqdm loading bar library\n",
    "from tqdm.notebook import tqdm, trange\n",
    "import time # to be used in loop iterations\n",
    "\n",
    "# disabling warnings\n",
    "import warnings\n",
    "warnings.filterwarnings('ignore')"
   ]
  },
  {
   "cell_type": "code",
   "execution_count": 92,
   "metadata": {},
   "outputs": [],
   "source": [
    "# Create a spark data frame that contains your favorite programming languages.\n",
    "\n",
    "# The name of the column should be language\n",
    "# View the schema of the dataframe\n",
    "# Output the shape of the dataframe\n",
    "# Show the first 5 records in the dataframe"
   ]
  },
  {
   "cell_type": "code",
   "execution_count": 93,
   "metadata": {},
   "outputs": [
    {
     "data": {
      "text/plain": [
       "DataFrame[n: bigint, language: string]"
      ]
     },
     "execution_count": 93,
     "metadata": {},
     "output_type": "execute_result"
    }
   ],
   "source": [
    "# creating a pyspark dataframe\n",
    "\n",
    "df = pd.DataFrame({ \n",
    "    \"n\": np.arange(20), \n",
    "    \"language\": \"python\"\n",
    "})\n",
    "\n",
    "df = spark.createDataFrame(df)\n",
    "df"
   ]
  },
  {
   "cell_type": "code",
   "execution_count": 94,
   "metadata": {},
   "outputs": [
    {
     "name": "stdout",
     "output_type": "stream",
     "text": [
      "pyspark df shape: (20, 2)\n"
     ]
    }
   ],
   "source": [
    "# printing the pyspark dataframe shape\n",
    "\n",
    "print(f'pyspark df shape: {(df.count(), len(df.columns))}')"
   ]
  },
  {
   "cell_type": "code",
   "execution_count": 95,
   "metadata": {},
   "outputs": [
    {
     "name": "stdout",
     "output_type": "stream",
     "text": [
      "root\n",
      " |-- n: long (nullable = true)\n",
      " |-- language: string (nullable = true)\n",
      "\n"
     ]
    }
   ],
   "source": [
    "# df schema\n",
    "\n",
    "df.printSchema()"
   ]
  },
  {
   "cell_type": "code",
   "execution_count": 96,
   "metadata": {},
   "outputs": [
    {
     "name": "stdout",
     "output_type": "stream",
     "text": [
      "+-------+-----------------+--------+\n",
      "|summary|                n|language|\n",
      "+-------+-----------------+--------+\n",
      "|  count|               20|      20|\n",
      "|   mean|              9.5|    null|\n",
      "| stddev|5.916079783099616|    null|\n",
      "|    min|                0|  python|\n",
      "|    max|               19|  python|\n",
      "+-------+-----------------+--------+\n",
      "\n"
     ]
    }
   ],
   "source": [
    "# describing the pyspark df\n",
    "\n",
    "df.describe().show()"
   ]
  },
  {
   "cell_type": "code",
   "execution_count": 97,
   "metadata": {},
   "outputs": [
    {
     "name": "stdout",
     "output_type": "stream",
     "text": [
      "+---+--------+\n",
      "|  n|language|\n",
      "+---+--------+\n",
      "|  0|  python|\n",
      "|  1|  python|\n",
      "|  2|  python|\n",
      "|  3|  python|\n",
      "|  4|  python|\n",
      "+---+--------+\n",
      "only showing top 5 rows\n",
      "\n"
     ]
    }
   ],
   "source": [
    "# showing the first 5 records in the dataframe\n",
    "\n",
    "df.show(5)"
   ]
  },
  {
   "cell_type": "code",
   "execution_count": 98,
   "metadata": {},
   "outputs": [
    {
     "name": "stdout",
     "output_type": "stream",
     "text": [
      "+------------+-----+-----+----+---+----------+---+---+---+---+-------+\n",
      "|manufacturer|model|displ|year|cyl|     trans|drv|cty|hwy| fl|  class|\n",
      "+------------+-----+-----+----+---+----------+---+---+---+---+-------+\n",
      "|        audi|   a4|  1.8|1999|  4|  auto(l5)|  f| 18| 29|  p|compact|\n",
      "|        audi|   a4|  1.8|1999|  4|manual(m5)|  f| 21| 29|  p|compact|\n",
      "|        audi|   a4|  2.0|2008|  4|manual(m6)|  f| 20| 31|  p|compact|\n",
      "|        audi|   a4|  2.0|2008|  4|  auto(av)|  f| 21| 30|  p|compact|\n",
      "|        audi|   a4|  2.8|1999|  6|  auto(l5)|  f| 16| 26|  p|compact|\n",
      "+------------+-----+-----+----+---+----------+---+---+---+---+-------+\n",
      "only showing top 5 rows\n",
      "\n"
     ]
    }
   ],
   "source": [
    "# exercise number 2: Load the mpg dataset as a spark dataframe\n",
    "\n",
    "mpg = data(\"mpg\")\n",
    "mpg = spark.createDataFrame(mpg)\n",
    "\n",
    "mpg.show(5)"
   ]
  },
  {
   "cell_type": "code",
   "execution_count": 99,
   "metadata": {},
   "outputs": [
    {
     "name": "stdout",
     "output_type": "stream",
     "text": [
      "+------------+-----+-----+----+---+----------+---+---+---+---+-------+--------------------+\n",
      "|manufacturer|model|displ|year|cyl|     trans|drv|cty|hwy| fl|  class|      concat_example|\n",
      "+------------+-----+-----+----+---+----------+---+---+---+---+-------+--------------------+\n",
      "|        audi|   a4|  1.8|1999|  4|  auto(l5)|  f| 18| 29|  p|compact|The 1999 a4 has a...|\n",
      "|        audi|   a4|  1.8|1999|  4|manual(m5)|  f| 21| 29|  p|compact|The 1999 a4 has a...|\n",
      "|        audi|   a4|  2.0|2008|  4|manual(m6)|  f| 20| 31|  p|compact|The 2008 a4 has a...|\n",
      "|        audi|   a4|  2.0|2008|  4|  auto(av)|  f| 21| 30|  p|compact|The 2008 a4 has a...|\n",
      "|        audi|   a4|  2.8|1999|  6|  auto(l5)|  f| 16| 26|  p|compact|The 1999 a4 has a...|\n",
      "+------------+-----+-----+----+---+----------+---+---+---+---+-------+--------------------+\n",
      "only showing top 5 rows\n",
      "\n"
     ]
    }
   ],
   "source": [
    "# Create 1 column of output that contains a message like the one below:\n",
    "# using a combination of pyspark functions (concat, expr, and lit?)\n",
    "\n",
    "# using the \"concatenate with separator method\"\n",
    "\n",
    "mpg = mpg.withColumn(\"concat_example\", concat_ws(\n",
    "    \" \",\n",
    "    lit(\"The\"),\n",
    "    mpg.year,\n",
    "    mpg.model, \n",
    "    lit(\"has a\"),\n",
    "    mpg.cyl,\n",
    "    lit(\"cylinder enginge.\"))\n",
    ")\n",
    "\n",
    "# printing the transformation/added column \n",
    "mpg.show(5) # checks out!"
   ]
  },
  {
   "cell_type": "code",
   "execution_count": 100,
   "metadata": {},
   "outputs": [],
   "source": [
    "#  2b. Transform the trans column so that it only contains either manual or auto.\n",
    "# will use reg expression to accomplish this task\n",
    "\n",
    "mpg = mpg.withColumn(\"trans\", regexp_extract(\"trans\", r'[a-z:]{4,6}', 0))"
   ]
  },
  {
   "cell_type": "code",
   "execution_count": 101,
   "metadata": {},
   "outputs": [
    {
     "name": "stdout",
     "output_type": "stream",
     "text": [
      "+------------+-----+-----+----+---+------+---+---+---+---+-------+--------------------+\n",
      "|manufacturer|model|displ|year|cyl| trans|drv|cty|hwy| fl|  class|      concat_example|\n",
      "+------------+-----+-----+----+---+------+---+---+---+---+-------+--------------------+\n",
      "|        audi|   a4|  1.8|1999|  4|  auto|  f| 18| 29|  p|compact|The 1999 a4 has a...|\n",
      "|        audi|   a4|  1.8|1999|  4|manual|  f| 21| 29|  p|compact|The 1999 a4 has a...|\n",
      "|        audi|   a4|  2.0|2008|  4|manual|  f| 20| 31|  p|compact|The 2008 a4 has a...|\n",
      "|        audi|   a4|  2.0|2008|  4|  auto|  f| 21| 30|  p|compact|The 2008 a4 has a...|\n",
      "|        audi|   a4|  2.8|1999|  6|  auto|  f| 16| 26|  p|compact|The 1999 a4 has a...|\n",
      "+------------+-----+-----+----+---+------+---+---+---+---+-------+--------------------+\n",
      "only showing top 5 rows\n",
      "\n"
     ]
    }
   ],
   "source": [
    "# printing the transformation\n",
    "\n",
    "mpg.show(5) # checks out!"
   ]
  },
  {
   "cell_type": "code",
   "execution_count": 102,
   "metadata": {},
   "outputs": [
    {
     "data": {
      "text/html": [
       "<div>\n",
       "<style scoped>\n",
       "    .dataframe tbody tr th:only-of-type {\n",
       "        vertical-align: middle;\n",
       "    }\n",
       "\n",
       "    .dataframe tbody tr th {\n",
       "        vertical-align: top;\n",
       "    }\n",
       "\n",
       "    .dataframe thead th {\n",
       "        text-align: right;\n",
       "    }\n",
       "</style>\n",
       "<table border=\"1\" class=\"dataframe\">\n",
       "  <thead>\n",
       "    <tr style=\"text-align: right;\">\n",
       "      <th></th>\n",
       "      <th>total_bill</th>\n",
       "      <th>tip</th>\n",
       "      <th>sex</th>\n",
       "      <th>smoker</th>\n",
       "      <th>day</th>\n",
       "      <th>time</th>\n",
       "      <th>size</th>\n",
       "    </tr>\n",
       "  </thead>\n",
       "  <tbody>\n",
       "    <tr>\n",
       "      <th>1</th>\n",
       "      <td>16.99</td>\n",
       "      <td>1.01</td>\n",
       "      <td>Female</td>\n",
       "      <td>No</td>\n",
       "      <td>Sun</td>\n",
       "      <td>Dinner</td>\n",
       "      <td>2</td>\n",
       "    </tr>\n",
       "    <tr>\n",
       "      <th>2</th>\n",
       "      <td>10.34</td>\n",
       "      <td>1.66</td>\n",
       "      <td>Male</td>\n",
       "      <td>No</td>\n",
       "      <td>Sun</td>\n",
       "      <td>Dinner</td>\n",
       "      <td>3</td>\n",
       "    </tr>\n",
       "    <tr>\n",
       "      <th>3</th>\n",
       "      <td>21.01</td>\n",
       "      <td>3.50</td>\n",
       "      <td>Male</td>\n",
       "      <td>No</td>\n",
       "      <td>Sun</td>\n",
       "      <td>Dinner</td>\n",
       "      <td>3</td>\n",
       "    </tr>\n",
       "    <tr>\n",
       "      <th>4</th>\n",
       "      <td>23.68</td>\n",
       "      <td>3.31</td>\n",
       "      <td>Male</td>\n",
       "      <td>No</td>\n",
       "      <td>Sun</td>\n",
       "      <td>Dinner</td>\n",
       "      <td>2</td>\n",
       "    </tr>\n",
       "    <tr>\n",
       "      <th>5</th>\n",
       "      <td>24.59</td>\n",
       "      <td>3.61</td>\n",
       "      <td>Female</td>\n",
       "      <td>No</td>\n",
       "      <td>Sun</td>\n",
       "      <td>Dinner</td>\n",
       "      <td>4</td>\n",
       "    </tr>\n",
       "  </tbody>\n",
       "</table>\n",
       "</div>"
      ],
      "text/plain": [
       "   total_bill   tip     sex smoker  day    time  size\n",
       "1       16.99  1.01  Female     No  Sun  Dinner     2\n",
       "2       10.34  1.66    Male     No  Sun  Dinner     3\n",
       "3       21.01  3.50    Male     No  Sun  Dinner     3\n",
       "4       23.68  3.31    Male     No  Sun  Dinner     2\n",
       "5       24.59  3.61  Female     No  Sun  Dinner     4"
      ]
     },
     "execution_count": 102,
     "metadata": {},
     "output_type": "execute_result"
    }
   ],
   "source": [
    "# exercise number 3: Load the tips dataset as a spark dataframe.\n",
    "\n",
    "tips_df = data(\"tips\")\n",
    "tips_df.head()"
   ]
  },
  {
   "cell_type": "code",
   "execution_count": 103,
   "metadata": {},
   "outputs": [
    {
     "name": "stdout",
     "output_type": "stream",
     "text": [
      "+----------+----+------+------+---+------+----+\n",
      "|total_bill| tip|   sex|smoker|day|  time|size|\n",
      "+----------+----+------+------+---+------+----+\n",
      "|     16.99|1.01|Female|    No|Sun|Dinner|   2|\n",
      "|     10.34|1.66|  Male|    No|Sun|Dinner|   3|\n",
      "|     21.01| 3.5|  Male|    No|Sun|Dinner|   3|\n",
      "|     23.68|3.31|  Male|    No|Sun|Dinner|   2|\n",
      "|     24.59|3.61|Female|    No|Sun|Dinner|   4|\n",
      "+----------+----+------+------+---+------+----+\n",
      "only showing top 5 rows\n",
      "\n"
     ]
    }
   ],
   "source": [
    "# creating the pyspark dataframe\n",
    "\n",
    "tips = spark.createDataFrame(tips_df)\n",
    "tips.show(5)"
   ]
  },
  {
   "cell_type": "code",
   "execution_count": 104,
   "metadata": {},
   "outputs": [
    {
     "data": {
      "text/plain": [
       "StructType([StructField('total_bill', DoubleType(), True), StructField('tip', DoubleType(), True), StructField('sex', StringType(), True), StructField('smoker', StringType(), True), StructField('day', StringType(), True), StructField('time', StringType(), True), StructField('size', LongType(), True)])"
      ]
     },
     "execution_count": 104,
     "metadata": {},
     "output_type": "execute_result"
    }
   ],
   "source": [
    "# schema print-out\n",
    "\n",
    "tips.schema"
   ]
  },
  {
   "cell_type": "code",
   "execution_count": 118,
   "metadata": {},
   "outputs": [
    {
     "name": "stdout",
     "output_type": "stream",
     "text": [
      "+-------+------------------+------------------+------+------+----+------+------------------+\n",
      "|summary|        total_bill|               tip|   sex|smoker| day|  time|              size|\n",
      "+-------+------------------+------------------+------+------+----+------+------------------+\n",
      "|  count|               244|               244|   244|   244| 244|   244|               244|\n",
      "|   mean|19.785942622950813|2.9982786885245907|  null|  null|null|  null| 2.569672131147541|\n",
      "| stddev| 8.902411954856856| 1.383638189001182|  null|  null|null|  null|0.9510998047322344|\n",
      "|    min|              3.07|               1.0|Female|    No| Fri|Dinner|                 1|\n",
      "|    max|             50.81|              10.0|  Male|   Yes|Thur| Lunch|                 6|\n",
      "+-------+------------------+------------------+------+------+----+------+------------------+\n",
      "\n"
     ]
    }
   ],
   "source": [
    "# df describe \n",
    "\n",
    "tips.describe().show()"
   ]
  },
  {
   "cell_type": "code",
   "execution_count": 112,
   "metadata": {},
   "outputs": [
    {
     "data": {
      "text/plain": [
       "[('total_bill', 'double'),\n",
       " ('tip', 'double'),\n",
       " ('sex', 'string'),\n",
       " ('smoker', 'string'),\n",
       " ('day', 'string'),\n",
       " ('time', 'string'),\n",
       " ('size', 'bigint')]"
      ]
     },
     "execution_count": 112,
     "metadata": {},
     "output_type": "execute_result"
    }
   ],
   "source": [
    "# df dtypes\n",
    "\n",
    "tips.dtypes"
   ]
  },
  {
   "cell_type": "code",
   "execution_count": 119,
   "metadata": {},
   "outputs": [
    {
     "name": "stdout",
     "output_type": "stream",
     "text": [
      "+-------+------------------+------------------+------------------+\n",
      "|summary|        total_bill|               tip|              size|\n",
      "+-------+------------------+------------------+------------------+\n",
      "|  count|               244|               244|               244|\n",
      "|   mean|19.785942622950813|2.9982786885245907| 2.569672131147541|\n",
      "| stddev| 8.902411954856856| 1.383638189001182|0.9510998047322344|\n",
      "|    min|              3.07|               1.0|                 1|\n",
      "|    max|             50.81|              10.0|                 6|\n",
      "+-------+------------------+------------------+------------------+\n",
      "\n"
     ]
    }
   ],
   "source": [
    "# summary stats for only numerical cols\n",
    "\n",
    "num_cols = [item[0] for item in tips.dtypes if item[1].startswith('double') or item[1].startswith(\"big\")]\n",
    "\n",
    "# running the describe method on only* numerical cols\n",
    "tips.describe(num_cols).show()"
   ]
  },
  {
   "cell_type": "code",
   "execution_count": 120,
   "metadata": {},
   "outputs": [
    {
     "name": "stdout",
     "output_type": "stream",
     "text": [
      "+-------+------------------+------------------+------------------+\n",
      "|summary|        total_bill|               tip|              size|\n",
      "+-------+------------------+------------------+------------------+\n",
      "|  count|               244|               244|               244|\n",
      "|   mean|19.785942622950813|2.9982786885245907| 2.569672131147541|\n",
      "| stddev| 8.902411954856856| 1.383638189001182|0.9510998047322344|\n",
      "|    min|              3.07|               1.0|                 1|\n",
      "|    max|             50.81|              10.0|                 6|\n",
      "+-------+------------------+------------------+------------------+\n",
      "\n"
     ]
    }
   ],
   "source": [
    "# creating a summary statistics df to work from\n",
    "\n",
    "summary_stats = tips.describe(num_cols)\n",
    "summary_stats.show()"
   ]
  },
  {
   "cell_type": "code",
   "execution_count": 106,
   "metadata": {},
   "outputs": [],
   "source": [
    "# creating a \"transpose\" function to help manipulate the data and swap cols for rows\n",
    "\n",
    "def TransposeDF(df, columns, pivotCol):\n",
    "    '''\"transpose\" function to help manipulate the data and swap cols for rows'''\n",
    "\n",
    "    columnsValue = list(map(lambda x: str(\"'\") + str(x) + str(\"',\")  + str(x), columns))\n",
    "\n",
    "    stackCols = ','.join(x for x in columnsValue)\n",
    "\n",
    "    df_1 = df.selectExpr(pivotCol, \"stack(\" + str(len(columns)) + \",\" + stackCols + \")\")\\\n",
    "           .select(pivotCol, \"col0\", \"col1\")\n",
    "\n",
    "    final_df = df_1.groupBy(col(\"col0\")).pivot(pivotCol).agg(concat_ws(\"\", collect_list(col(\"col1\"))))\\\n",
    "                 .withColumnRenamed(\"col0\", pivotCol)\n",
    "\n",
    "    return final_df"
   ]
  },
  {
   "cell_type": "code",
   "execution_count": 121,
   "metadata": {},
   "outputs": [
    {
     "name": "stdout",
     "output_type": "stream",
     "text": [
      "+----------+-----+-----+------------------+----+------------------+\n",
      "|   summary|count|  max|              mean| min|            stddev|\n",
      "+----------+-----+-----+------------------+----+------------------+\n",
      "|total_bill|  244|50.81|19.785942622950813|3.07| 8.902411954856856|\n",
      "|       tip|  244| 10.0|2.9982786885245907| 1.0| 1.383638189001182|\n",
      "|      size|  244|    6| 2.569672131147541|   1|0.9510998047322344|\n",
      "+----------+-----+-----+------------------+----+------------------+\n",
      "\n"
     ]
    }
   ],
   "source": [
    "# let's see if the function works\n",
    "\n",
    "summary_stats = TransposeDF(summary_stats, num_cols, \"summary\")\n",
    "summary_stats.show() # checks out!"
   ]
  },
  {
   "cell_type": "code",
   "execution_count": 123,
   "metadata": {},
   "outputs": [
    {
     "name": "stdout",
     "output_type": "stream",
     "text": [
      "+----------+-----+-----+------------------+----+------------------+-----+\n",
      "|   summary|count|  max|              mean| min|            stddev|range|\n",
      "+----------+-----+-----+------------------+----+------------------+-----+\n",
      "|total_bill|  244|50.81|19.785942622950813|3.07| 8.902411954856856|47.74|\n",
      "|       tip|  244| 10.0|2.9982786885245907| 1.0| 1.383638189001182|  9.0|\n",
      "|      size|  244|    6| 2.569672131147541|   1|0.9510998047322344|  5.0|\n",
      "+----------+-----+-----+------------------+----+------------------+-----+\n",
      "\n"
     ]
    }
   ],
   "source": [
    "# creating a range column \n",
    "\n",
    "summary_stats = summary_stats.withColumn(\"range\", summary_stats[\"max\"] - summary_stats[\"min\"])\n",
    "summary_stats.show() # checks out!"
   ]
  },
  {
   "cell_type": "code",
   "execution_count": 124,
   "metadata": {},
   "outputs": [
    {
     "name": "stdout",
     "output_type": "stream",
     "text": [
      "+----------+----+------+------+---+------+----+\n",
      "|total_bill| tip|   sex|smoker|day|  time|size|\n",
      "+----------+----+------+------+---+------+----+\n",
      "|     16.99|1.01|Female|    No|Sun|Dinner|   2|\n",
      "|     10.34|1.66|  Male|    No|Sun|Dinner|   3|\n",
      "|     21.01| 3.5|  Male|    No|Sun|Dinner|   3|\n",
      "|     23.68|3.31|  Male|    No|Sun|Dinner|   2|\n",
      "|     24.59|3.61|Female|    No|Sun|Dinner|   4|\n",
      "|     25.29|4.71|  Male|    No|Sun|Dinner|   4|\n",
      "|      8.77| 2.0|  Male|    No|Sun|Dinner|   2|\n",
      "|     26.88|3.12|  Male|    No|Sun|Dinner|   4|\n",
      "|     15.04|1.96|  Male|    No|Sun|Dinner|   2|\n",
      "|     14.78|3.23|  Male|    No|Sun|Dinner|   2|\n",
      "|     10.27|1.71|  Male|    No|Sun|Dinner|   2|\n",
      "|     35.26| 5.0|Female|    No|Sun|Dinner|   4|\n",
      "|     15.42|1.57|  Male|    No|Sun|Dinner|   2|\n",
      "|     18.43| 3.0|  Male|    No|Sun|Dinner|   4|\n",
      "|     14.83|3.02|Female|    No|Sun|Dinner|   2|\n",
      "|     21.58|3.92|  Male|    No|Sun|Dinner|   2|\n",
      "|     10.33|1.67|Female|    No|Sun|Dinner|   3|\n",
      "|     16.29|3.71|  Male|    No|Sun|Dinner|   3|\n",
      "|     16.97| 3.5|Female|    No|Sun|Dinner|   3|\n",
      "|     20.65|3.35|  Male|    No|Sat|Dinner|   3|\n",
      "+----------+----+------+------+---+------+----+\n",
      "only showing top 20 rows\n",
      "\n"
     ]
    }
   ],
   "source": [
    "# What percentage of observations are smokers?\n",
    "\n",
    "tips.show()"
   ]
  },
  {
   "cell_type": "code",
   "execution_count": 138,
   "metadata": {},
   "outputs": [
    {
     "data": {
      "text/plain": [
       "93"
      ]
     },
     "execution_count": 138,
     "metadata": {},
     "output_type": "execute_result"
    }
   ],
   "source": [
    "# filter for smokers in tips dataframe\n",
    "\n",
    "smoker_df = tips.filter(tips.smoker == \"Yes\")\n",
    "smoker_count = smoker_df.count()\n",
    "smoker_count"
   ]
  },
  {
   "cell_type": "code",
   "execution_count": 144,
   "metadata": {},
   "outputs": [
    {
     "name": "stdout",
     "output_type": "stream",
     "text": [
      "Percentage of smokers in tips df: 0.38\n"
     ]
    }
   ],
   "source": [
    "# print the percentage of smokers in tips df\n",
    "\n",
    "print('Percentage of smokers in tips df: {:.2f}'.format(smoker_count / tips.count()))"
   ]
  },
  {
   "cell_type": "code",
   "execution_count": null,
   "metadata": {},
   "outputs": [],
   "source": []
  }
 ],
 "metadata": {
  "kernelspec": {
   "display_name": "Python 3.9.12 ('base')",
   "language": "python",
   "name": "python3"
  },
  "language_info": {
   "codemirror_mode": {
    "name": "ipython",
    "version": 3
   },
   "file_extension": ".py",
   "mimetype": "text/x-python",
   "name": "python",
   "nbconvert_exporter": "python",
   "pygments_lexer": "ipython3",
   "version": "3.9.12"
  },
  "orig_nbformat": 4,
  "vscode": {
   "interpreter": {
    "hash": "40d3a090f54c6569ab1632332b64b2c03c39dcf918b08424e98f38b5ae0af88f"
   }
  }
 },
 "nbformat": 4,
 "nbformat_minor": 2
}
