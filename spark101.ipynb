{
 "cells": [
  {
   "cell_type": "code",
   "execution_count": 55,
   "metadata": {},
   "outputs": [],
   "source": [
    "# notebook dependencies\n",
    "import pyspark\n",
    "from pyspark.sql.functions import col, expr\n",
    "from pyspark.sql.functions import regexp_extract, regexp_replace\n",
    "\n",
    "# note: the pyspark avg and mean functions are aliases of eachother\n",
    "from pyspark.sql.functions import concat, sum, avg, min, max, count, mean, lit\n",
    "\n",
    "# note: the following import, imports all pyspark sql functions similar to above\n",
    "from pyspark.sql.functions import *\n",
    "\n",
    "# creating the spark instance\n",
    "spark = pyspark.sql.SparkSession.builder.getOrCreate()\n",
    "\n",
    "# pandas, numpy, and matplotlib imports\n",
    "import pandas as pd\n",
    "import numpy as np\n",
    "import matplotlib.pyplot as plt \n",
    "\n",
    "# pydatasets\n",
    "from pydataset import data\n",
    "\n",
    "# tqdm loading bar library\n",
    "from tqdm.notebook import tqdm, trange\n",
    "import time # to be used in loop iterations\n",
    "\n",
    "# disabling warnings\n",
    "# import warnings\n",
    "# warnings.filterwarnings('ignore')"
   ]
  },
  {
   "cell_type": "code",
   "execution_count": 56,
   "metadata": {},
   "outputs": [],
   "source": [
    "# Create a spark data frame that contains your favorite programming languages.\n",
    "\n",
    "# The name of the column should be language\n",
    "# View the schema of the dataframe\n",
    "# Output the shape of the dataframe\n",
    "# Show the first 5 records in the dataframe"
   ]
  },
  {
   "cell_type": "code",
   "execution_count": 57,
   "metadata": {},
   "outputs": [
    {
     "name": "stdout",
     "output_type": "stream",
     "text": [
      "+---+----------+\n",
      "|  n| languages|\n",
      "+---+----------+\n",
      "|  0|    Python|\n",
      "|  1|     Julia|\n",
      "|  2|    Python|\n",
      "|  3|      Java|\n",
      "|  4|    Python|\n",
      "|  5|       SQL|\n",
      "|  6|     Julia|\n",
      "|  7|JavaScript|\n",
      "|  8|     Julia|\n",
      "|  9|      Java|\n",
      "| 10|     Julia|\n",
      "| 11|    Python|\n",
      "| 12|    Python|\n",
      "| 13|     Julia|\n",
      "| 14|       SQL|\n",
      "| 15|    Python|\n",
      "| 16|       SQL|\n",
      "| 17|JavaScript|\n",
      "| 18|       SQL|\n",
      "| 19|     Julia|\n",
      "+---+----------+\n",
      "\n"
     ]
    }
   ],
   "source": [
    "# creating a pyspark dataframe\n",
    "\n",
    "df = pd.DataFrame({ \n",
    "    \"n\": np.arange(20), \n",
    "    \"languages\": np.random.choice([\"Python\", \"SQL\", \"JavaScript\", \"Julia\", \"Java\"], 20)\n",
    "})\n",
    "\n",
    "df = spark.createDataFrame(df)\n",
    "df.show()"
   ]
  },
  {
   "cell_type": "code",
   "execution_count": 58,
   "metadata": {},
   "outputs": [
    {
     "name": "stdout",
     "output_type": "stream",
     "text": [
      "pyspark df shape: (20, 2)\n"
     ]
    }
   ],
   "source": [
    "# printing the pyspark dataframe shape\n",
    "\n",
    "print(f'pyspark df shape: {(df.count(), len(df.columns))}')"
   ]
  },
  {
   "cell_type": "code",
   "execution_count": 59,
   "metadata": {},
   "outputs": [
    {
     "name": "stdout",
     "output_type": "stream",
     "text": [
      "root\n",
      " |-- n: long (nullable = true)\n",
      " |-- languages: string (nullable = true)\n",
      "\n"
     ]
    }
   ],
   "source": [
    "# df schema\n",
    "\n",
    "df.printSchema()"
   ]
  },
  {
   "cell_type": "code",
   "execution_count": 60,
   "metadata": {},
   "outputs": [
    {
     "name": "stdout",
     "output_type": "stream",
     "text": [
      "+-------+-----------------+---------+\n",
      "|summary|                n|languages|\n",
      "+-------+-----------------+---------+\n",
      "|  count|               20|       20|\n",
      "|   mean|              9.5|     null|\n",
      "| stddev|5.916079783099616|     null|\n",
      "|    min|                0|     Java|\n",
      "|    max|               19|      SQL|\n",
      "+-------+-----------------+---------+\n",
      "\n"
     ]
    }
   ],
   "source": [
    "# describing the pyspark df\n",
    "\n",
    "df.describe().show()"
   ]
  },
  {
   "cell_type": "code",
   "execution_count": 61,
   "metadata": {},
   "outputs": [
    {
     "name": "stdout",
     "output_type": "stream",
     "text": [
      "+---+---------+\n",
      "|  n|languages|\n",
      "+---+---------+\n",
      "|  0|   Python|\n",
      "|  1|    Julia|\n",
      "|  2|   Python|\n",
      "|  3|     Java|\n",
      "|  4|   Python|\n",
      "+---+---------+\n",
      "only showing top 5 rows\n",
      "\n"
     ]
    }
   ],
   "source": [
    "# showing the first 5 records in the dataframe\n",
    "\n",
    "df.show(5)"
   ]
  },
  {
   "cell_type": "code",
   "execution_count": 62,
   "metadata": {},
   "outputs": [
    {
     "name": "stdout",
     "output_type": "stream",
     "text": [
      "+------------+-----+-----+----+---+----------+---+---+---+---+-------+\n",
      "|manufacturer|model|displ|year|cyl|     trans|drv|cty|hwy| fl|  class|\n",
      "+------------+-----+-----+----+---+----------+---+---+---+---+-------+\n",
      "|        audi|   a4|  1.8|1999|  4|  auto(l5)|  f| 18| 29|  p|compact|\n",
      "|        audi|   a4|  1.8|1999|  4|manual(m5)|  f| 21| 29|  p|compact|\n",
      "|        audi|   a4|  2.0|2008|  4|manual(m6)|  f| 20| 31|  p|compact|\n",
      "|        audi|   a4|  2.0|2008|  4|  auto(av)|  f| 21| 30|  p|compact|\n",
      "|        audi|   a4|  2.8|1999|  6|  auto(l5)|  f| 16| 26|  p|compact|\n",
      "+------------+-----+-----+----+---+----------+---+---+---+---+-------+\n",
      "only showing top 5 rows\n",
      "\n"
     ]
    }
   ],
   "source": [
    "# exercise number 2: Load the mpg dataset as a spark dataframe\n",
    "\n",
    "mpg = data(\"mpg\")\n",
    "mpg = spark.createDataFrame(mpg)\n",
    "\n",
    "mpg.show(5)"
   ]
  },
  {
   "cell_type": "code",
   "execution_count": 63,
   "metadata": {},
   "outputs": [
    {
     "name": "stdout",
     "output_type": "stream",
     "text": [
      "+------------+-----+-----+----+---+----------+---+---+---+---+-------+-------------------------------------+\n",
      "|manufacturer|model|displ|year|cyl|trans     |drv|cty|hwy|fl |class  |concat_example                       |\n",
      "+------------+-----+-----+----+---+----------+---+---+---+---+-------+-------------------------------------+\n",
      "|audi        |a4   |1.8  |1999|4  |auto(l5)  |f  |18 |29 |p  |compact|The 1999 a4 has a 4 cylinder enginge.|\n",
      "|audi        |a4   |1.8  |1999|4  |manual(m5)|f  |21 |29 |p  |compact|The 1999 a4 has a 4 cylinder enginge.|\n",
      "|audi        |a4   |2.0  |2008|4  |manual(m6)|f  |20 |31 |p  |compact|The 2008 a4 has a 4 cylinder enginge.|\n",
      "|audi        |a4   |2.0  |2008|4  |auto(av)  |f  |21 |30 |p  |compact|The 2008 a4 has a 4 cylinder enginge.|\n",
      "|audi        |a4   |2.8  |1999|6  |auto(l5)  |f  |16 |26 |p  |compact|The 1999 a4 has a 6 cylinder enginge.|\n",
      "+------------+-----+-----+----+---+----------+---+---+---+---+-------+-------------------------------------+\n",
      "only showing top 5 rows\n",
      "\n"
     ]
    }
   ],
   "source": [
    "# Create 1 column of output that contains a message like the one below:\n",
    "# using a combination of pyspark functions (concat, expr, and lit?)\n",
    "\n",
    "# using the \"concatenate with separator method\"\n",
    "\n",
    "mpg = mpg.withColumn(\"concat_example\", concat_ws(\n",
    "    \" \",\n",
    "    lit(\"The\"),\n",
    "    mpg.year,\n",
    "    mpg.model, \n",
    "    lit(\"has a\"),\n",
    "    mpg.cyl,\n",
    "    lit(\"cylinder enginge.\"))\n",
    ")\n",
    "\n",
    "# printing the transformation/added column \n",
    "mpg.show(5, truncate = False) # checks out!"
   ]
  },
  {
   "cell_type": "code",
   "execution_count": 64,
   "metadata": {},
   "outputs": [
    {
     "name": "stdout",
     "output_type": "stream",
     "text": [
      "+----------+-------------+\n",
      "|     trans|trans_cleaned|\n",
      "+----------+-------------+\n",
      "|  auto(l5)|         auto|\n",
      "|manual(m5)|       manual|\n",
      "|manual(m6)|       manual|\n",
      "|  auto(av)|         auto|\n",
      "|  auto(l5)|         auto|\n",
      "|manual(m5)|       manual|\n",
      "|  auto(av)|         auto|\n",
      "|manual(m5)|       manual|\n",
      "|  auto(l5)|         auto|\n",
      "|manual(m6)|       manual|\n",
      "|  auto(s6)|         auto|\n",
      "|  auto(l5)|         auto|\n",
      "|manual(m5)|       manual|\n",
      "|  auto(s6)|         auto|\n",
      "|manual(m6)|       manual|\n",
      "|  auto(l5)|         auto|\n",
      "|  auto(s6)|         auto|\n",
      "|  auto(s6)|         auto|\n",
      "|  auto(l4)|         auto|\n",
      "|  auto(l4)|         auto|\n",
      "+----------+-------------+\n",
      "only showing top 20 rows\n",
      "\n"
     ]
    }
   ],
   "source": [
    "#  2b. Transform the trans column so that it only contains either manual or auto.\n",
    "# will use reg expression to accomplish this task\n",
    "\n",
    "mpg.select(\"trans\", regexp_extract(\"trans\", r'[a-z:]{4,6}', 0).alias(\"trans_cleaned\")).show()"
   ]
  },
  {
   "cell_type": "code",
   "execution_count": 65,
   "metadata": {},
   "outputs": [
    {
     "name": "stdout",
     "output_type": "stream",
     "text": [
      "+------------+-----+-----+----+---+------+---+---+---+---+-------+--------------------+\n",
      "|manufacturer|model|displ|year|cyl| trans|drv|cty|hwy| fl|  class|      concat_example|\n",
      "+------------+-----+-----+----+---+------+---+---+---+---+-------+--------------------+\n",
      "|        audi|   a4|  1.8|1999|  4|  auto|  f| 18| 29|  p|compact|The 1999 a4 has a...|\n",
      "|        audi|   a4|  1.8|1999|  4|manual|  f| 21| 29|  p|compact|The 1999 a4 has a...|\n",
      "|        audi|   a4|  2.0|2008|  4|manual|  f| 20| 31|  p|compact|The 2008 a4 has a...|\n",
      "|        audi|   a4|  2.0|2008|  4|  auto|  f| 21| 30|  p|compact|The 2008 a4 has a...|\n",
      "|        audi|   a4|  2.8|1999|  6|  auto|  f| 16| 26|  p|compact|The 1999 a4 has a...|\n",
      "+------------+-----+-----+----+---+------+---+---+---+---+-------+--------------------+\n",
      "only showing top 5 rows\n",
      "\n"
     ]
    }
   ],
   "source": [
    "# printing the transformation\n",
    "\n",
    "mpg = mpg.withColumn(\"trans\", regexp_extract(\"trans\", r'[a-z:]{4,6}', 0))\n",
    "\n",
    "mpg.show(5) # checks out!"
   ]
  },
  {
   "cell_type": "code",
   "execution_count": 66,
   "metadata": {},
   "outputs": [
    {
     "data": {
      "text/html": [
       "<div>\n",
       "<style scoped>\n",
       "    .dataframe tbody tr th:only-of-type {\n",
       "        vertical-align: middle;\n",
       "    }\n",
       "\n",
       "    .dataframe tbody tr th {\n",
       "        vertical-align: top;\n",
       "    }\n",
       "\n",
       "    .dataframe thead th {\n",
       "        text-align: right;\n",
       "    }\n",
       "</style>\n",
       "<table border=\"1\" class=\"dataframe\">\n",
       "  <thead>\n",
       "    <tr style=\"text-align: right;\">\n",
       "      <th></th>\n",
       "      <th>total_bill</th>\n",
       "      <th>tip</th>\n",
       "      <th>sex</th>\n",
       "      <th>smoker</th>\n",
       "      <th>day</th>\n",
       "      <th>time</th>\n",
       "      <th>size</th>\n",
       "    </tr>\n",
       "  </thead>\n",
       "  <tbody>\n",
       "    <tr>\n",
       "      <th>1</th>\n",
       "      <td>16.99</td>\n",
       "      <td>1.01</td>\n",
       "      <td>Female</td>\n",
       "      <td>No</td>\n",
       "      <td>Sun</td>\n",
       "      <td>Dinner</td>\n",
       "      <td>2</td>\n",
       "    </tr>\n",
       "    <tr>\n",
       "      <th>2</th>\n",
       "      <td>10.34</td>\n",
       "      <td>1.66</td>\n",
       "      <td>Male</td>\n",
       "      <td>No</td>\n",
       "      <td>Sun</td>\n",
       "      <td>Dinner</td>\n",
       "      <td>3</td>\n",
       "    </tr>\n",
       "    <tr>\n",
       "      <th>3</th>\n",
       "      <td>21.01</td>\n",
       "      <td>3.50</td>\n",
       "      <td>Male</td>\n",
       "      <td>No</td>\n",
       "      <td>Sun</td>\n",
       "      <td>Dinner</td>\n",
       "      <td>3</td>\n",
       "    </tr>\n",
       "    <tr>\n",
       "      <th>4</th>\n",
       "      <td>23.68</td>\n",
       "      <td>3.31</td>\n",
       "      <td>Male</td>\n",
       "      <td>No</td>\n",
       "      <td>Sun</td>\n",
       "      <td>Dinner</td>\n",
       "      <td>2</td>\n",
       "    </tr>\n",
       "    <tr>\n",
       "      <th>5</th>\n",
       "      <td>24.59</td>\n",
       "      <td>3.61</td>\n",
       "      <td>Female</td>\n",
       "      <td>No</td>\n",
       "      <td>Sun</td>\n",
       "      <td>Dinner</td>\n",
       "      <td>4</td>\n",
       "    </tr>\n",
       "  </tbody>\n",
       "</table>\n",
       "</div>"
      ],
      "text/plain": [
       "   total_bill   tip     sex smoker  day    time  size\n",
       "1       16.99  1.01  Female     No  Sun  Dinner     2\n",
       "2       10.34  1.66    Male     No  Sun  Dinner     3\n",
       "3       21.01  3.50    Male     No  Sun  Dinner     3\n",
       "4       23.68  3.31    Male     No  Sun  Dinner     2\n",
       "5       24.59  3.61  Female     No  Sun  Dinner     4"
      ]
     },
     "execution_count": 66,
     "metadata": {},
     "output_type": "execute_result"
    }
   ],
   "source": [
    "# exercise number 3: Load the tips dataset as a spark dataframe.\n",
    "\n",
    "tips_df = data(\"tips\")\n",
    "tips_df.head()"
   ]
  },
  {
   "cell_type": "code",
   "execution_count": 67,
   "metadata": {},
   "outputs": [
    {
     "name": "stdout",
     "output_type": "stream",
     "text": [
      "+----------+----+------+------+---+------+----+\n",
      "|total_bill| tip|   sex|smoker|day|  time|size|\n",
      "+----------+----+------+------+---+------+----+\n",
      "|     16.99|1.01|Female|    No|Sun|Dinner|   2|\n",
      "|     10.34|1.66|  Male|    No|Sun|Dinner|   3|\n",
      "|     21.01| 3.5|  Male|    No|Sun|Dinner|   3|\n",
      "|     23.68|3.31|  Male|    No|Sun|Dinner|   2|\n",
      "|     24.59|3.61|Female|    No|Sun|Dinner|   4|\n",
      "+----------+----+------+------+---+------+----+\n",
      "only showing top 5 rows\n",
      "\n"
     ]
    }
   ],
   "source": [
    "# creating the pyspark dataframe\n",
    "\n",
    "tips = spark.createDataFrame(tips_df)\n",
    "tips.show(5)"
   ]
  },
  {
   "cell_type": "code",
   "execution_count": 68,
   "metadata": {},
   "outputs": [
    {
     "data": {
      "text/plain": [
       "StructType([StructField('total_bill', DoubleType(), True), StructField('tip', DoubleType(), True), StructField('sex', StringType(), True), StructField('smoker', StringType(), True), StructField('day', StringType(), True), StructField('time', StringType(), True), StructField('size', LongType(), True)])"
      ]
     },
     "execution_count": 68,
     "metadata": {},
     "output_type": "execute_result"
    }
   ],
   "source": [
    "# schema print-out\n",
    "\n",
    "tips.schema"
   ]
  },
  {
   "cell_type": "code",
   "execution_count": 69,
   "metadata": {},
   "outputs": [
    {
     "name": "stdout",
     "output_type": "stream",
     "text": [
      "+-------+------------------+------------------+------+------+----+------+------------------+\n",
      "|summary|        total_bill|               tip|   sex|smoker| day|  time|              size|\n",
      "+-------+------------------+------------------+------+------+----+------+------------------+\n",
      "|  count|               244|               244|   244|   244| 244|   244|               244|\n",
      "|   mean|19.785942622950813|2.9982786885245907|  null|  null|null|  null| 2.569672131147541|\n",
      "| stddev| 8.902411954856856| 1.383638189001182|  null|  null|null|  null|0.9510998047322344|\n",
      "|    min|              3.07|               1.0|Female|    No| Fri|Dinner|                 1|\n",
      "|    max|             50.81|              10.0|  Male|   Yes|Thur| Lunch|                 6|\n",
      "+-------+------------------+------------------+------+------+----+------+------------------+\n",
      "\n"
     ]
    }
   ],
   "source": [
    "# df describe \n",
    "\n",
    "tips.describe().show()"
   ]
  },
  {
   "cell_type": "code",
   "execution_count": 70,
   "metadata": {},
   "outputs": [
    {
     "data": {
      "text/plain": [
       "[('total_bill', 'double'),\n",
       " ('tip', 'double'),\n",
       " ('sex', 'string'),\n",
       " ('smoker', 'string'),\n",
       " ('day', 'string'),\n",
       " ('time', 'string'),\n",
       " ('size', 'bigint')]"
      ]
     },
     "execution_count": 70,
     "metadata": {},
     "output_type": "execute_result"
    }
   ],
   "source": [
    "# df dtypes\n",
    "\n",
    "tips.dtypes"
   ]
  },
  {
   "cell_type": "code",
   "execution_count": 71,
   "metadata": {},
   "outputs": [
    {
     "name": "stdout",
     "output_type": "stream",
     "text": [
      "+-------+------------------+------------------+------------------+\n",
      "|summary|        total_bill|               tip|              size|\n",
      "+-------+------------------+------------------+------------------+\n",
      "|  count|               244|               244|               244|\n",
      "|   mean|19.785942622950813|2.9982786885245907| 2.569672131147541|\n",
      "| stddev| 8.902411954856856| 1.383638189001182|0.9510998047322344|\n",
      "|    min|              3.07|               1.0|                 1|\n",
      "|    max|             50.81|              10.0|                 6|\n",
      "+-------+------------------+------------------+------------------+\n",
      "\n"
     ]
    }
   ],
   "source": [
    "# summary stats for only numerical cols\n",
    "\n",
    "num_cols = [item[0] for item in tips.dtypes if item[1].startswith('double') or item[1].startswith(\"big\")]\n",
    "\n",
    "# running the describe method on only* numerical cols\n",
    "tips.describe(num_cols).show()"
   ]
  },
  {
   "cell_type": "code",
   "execution_count": 72,
   "metadata": {},
   "outputs": [
    {
     "name": "stdout",
     "output_type": "stream",
     "text": [
      "+-------+------------------+------------------+------------------+\n",
      "|summary|        total_bill|               tip|              size|\n",
      "+-------+------------------+------------------+------------------+\n",
      "|  count|               244|               244|               244|\n",
      "|   mean|19.785942622950813|2.9982786885245907| 2.569672131147541|\n",
      "| stddev| 8.902411954856856| 1.383638189001182|0.9510998047322344|\n",
      "|    min|              3.07|               1.0|                 1|\n",
      "|    max|             50.81|              10.0|                 6|\n",
      "+-------+------------------+------------------+------------------+\n",
      "\n"
     ]
    }
   ],
   "source": [
    "# creating a summary statistics df to work from\n",
    "\n",
    "summary_stats = tips.describe(num_cols)\n",
    "summary_stats.show()"
   ]
  },
  {
   "cell_type": "code",
   "execution_count": 79,
   "metadata": {},
   "outputs": [],
   "source": [
    "# creating a \"transpose\" function to help manipulate the data and swap cols for rows\n",
    "\n",
    "def TransposeDF(df, columns, pivotCol):\n",
    "    '''\"Transpose\" function to help manipulate the data and swap cols for rows.\n",
    "    Function takes in a dataframe, columns to tranpose, and specific column to pivot on (does not change).'''\n",
    "\n",
    "    columnsValue = list(map(lambda x: str(\"'\") + str(x) + str(\"',\")  + str(x), columns))\n",
    "\n",
    "    stackCols = ','.join(x for x in columnsValue)\n",
    "\n",
    "    df_1 = df.selectExpr(pivotCol, \"stack(\" + str(len(columns)) + \",\" + stackCols + \")\")\\\n",
    "           .select(pivotCol, \"col0\", \"col1\")\n",
    "\n",
    "    final_df = df_1.groupBy(col(\"col0\")).pivot(pivotCol).agg(concat_ws(\"\", collect_list(col(\"col1\"))))\\\n",
    "                 .withColumnRenamed(\"col0\", pivotCol)\n",
    "\n",
    "    return final_df"
   ]
  },
  {
   "cell_type": "code",
   "execution_count": 74,
   "metadata": {},
   "outputs": [
    {
     "name": "stdout",
     "output_type": "stream",
     "text": [
      "+----------+-----+-----+------------------+----+------------------+\n",
      "|   summary|count|  max|              mean| min|            stddev|\n",
      "+----------+-----+-----+------------------+----+------------------+\n",
      "|total_bill|  244|50.81|19.785942622950813|3.07| 8.902411954856856|\n",
      "|       tip|  244| 10.0|2.9982786885245907| 1.0| 1.383638189001182|\n",
      "|      size|  244|    6| 2.569672131147541|   1|0.9510998047322344|\n",
      "+----------+-----+-----+------------------+----+------------------+\n",
      "\n"
     ]
    }
   ],
   "source": [
    "# let's see if the function works\n",
    "\n",
    "summary_stats = TransposeDF(summary_stats, num_cols, \"summary\")\n",
    "summary_stats.show() # checks out!"
   ]
  },
  {
   "cell_type": "code",
   "execution_count": 75,
   "metadata": {},
   "outputs": [
    {
     "name": "stdout",
     "output_type": "stream",
     "text": [
      "+----------+-----+-----+------------------+----+------------------+-----+\n",
      "|   summary|count|  max|              mean| min|            stddev|range|\n",
      "+----------+-----+-----+------------------+----+------------------+-----+\n",
      "|total_bill|  244|50.81|19.785942622950813|3.07| 8.902411954856856|47.74|\n",
      "|       tip|  244| 10.0|2.9982786885245907| 1.0| 1.383638189001182|  9.0|\n",
      "|      size|  244|    6| 2.569672131147541|   1|0.9510998047322344|  5.0|\n",
      "+----------+-----+-----+------------------+----+------------------+-----+\n",
      "\n"
     ]
    }
   ],
   "source": [
    "# creating a range column \n",
    "\n",
    "summary_stats = summary_stats.withColumn(\"range\", summary_stats[\"max\"] - summary_stats[\"min\"])\n",
    "summary_stats.show() # checks out!"
   ]
  },
  {
   "cell_type": "code",
   "execution_count": 76,
   "metadata": {},
   "outputs": [
    {
     "name": "stdout",
     "output_type": "stream",
     "text": [
      "+----------+----+------+------+---+------+----+\n",
      "|total_bill| tip|   sex|smoker|day|  time|size|\n",
      "+----------+----+------+------+---+------+----+\n",
      "|     16.99|1.01|Female|    No|Sun|Dinner|   2|\n",
      "|     10.34|1.66|  Male|    No|Sun|Dinner|   3|\n",
      "|     21.01| 3.5|  Male|    No|Sun|Dinner|   3|\n",
      "|     23.68|3.31|  Male|    No|Sun|Dinner|   2|\n",
      "|     24.59|3.61|Female|    No|Sun|Dinner|   4|\n",
      "|     25.29|4.71|  Male|    No|Sun|Dinner|   4|\n",
      "|      8.77| 2.0|  Male|    No|Sun|Dinner|   2|\n",
      "|     26.88|3.12|  Male|    No|Sun|Dinner|   4|\n",
      "|     15.04|1.96|  Male|    No|Sun|Dinner|   2|\n",
      "|     14.78|3.23|  Male|    No|Sun|Dinner|   2|\n",
      "|     10.27|1.71|  Male|    No|Sun|Dinner|   2|\n",
      "|     35.26| 5.0|Female|    No|Sun|Dinner|   4|\n",
      "|     15.42|1.57|  Male|    No|Sun|Dinner|   2|\n",
      "|     18.43| 3.0|  Male|    No|Sun|Dinner|   4|\n",
      "|     14.83|3.02|Female|    No|Sun|Dinner|   2|\n",
      "|     21.58|3.92|  Male|    No|Sun|Dinner|   2|\n",
      "|     10.33|1.67|Female|    No|Sun|Dinner|   3|\n",
      "|     16.29|3.71|  Male|    No|Sun|Dinner|   3|\n",
      "|     16.97| 3.5|Female|    No|Sun|Dinner|   3|\n",
      "|     20.65|3.35|  Male|    No|Sat|Dinner|   3|\n",
      "+----------+----+------+------+---+------+----+\n",
      "only showing top 20 rows\n",
      "\n"
     ]
    }
   ],
   "source": [
    "# What percentage of observations are smokers?\n",
    "\n",
    "tips.show()"
   ]
  },
  {
   "cell_type": "code",
   "execution_count": 77,
   "metadata": {},
   "outputs": [
    {
     "data": {
      "text/plain": [
       "93"
      ]
     },
     "execution_count": 77,
     "metadata": {},
     "output_type": "execute_result"
    }
   ],
   "source": [
    "# filter for smokers in tips dataframe\n",
    "\n",
    "smoker_df = tips.filter(tips.smoker == \"Yes\")\n",
    "smoker_count = smoker_df.count()\n",
    "smoker_count"
   ]
  },
  {
   "cell_type": "code",
   "execution_count": 78,
   "metadata": {},
   "outputs": [
    {
     "name": "stdout",
     "output_type": "stream",
     "text": [
      "Percentage of smokers in tips df: 0.38\n"
     ]
    }
   ],
   "source": [
    "# print the percentage of smokers in tips df\n",
    "\n",
    "print('Percentage of smokers in tips df: {:.2f}'.format(smoker_count / tips.count()))"
   ]
  },
  {
   "cell_type": "code",
   "execution_count": 80,
   "metadata": {},
   "outputs": [
    {
     "name": "stdout",
     "output_type": "stream",
     "text": [
      "+----------+----+------+------+---+------+----+-------------------+\n",
      "|total_bill| tip|   sex|smoker|day|  time|size|     tip_percentage|\n",
      "+----------+----+------+------+---+------+----+-------------------+\n",
      "|     16.99|1.01|Female|    No|Sun|Dinner|   2|0.05944673337257211|\n",
      "|     10.34|1.66|  Male|    No|Sun|Dinner|   3|0.16054158607350097|\n",
      "|     21.01| 3.5|  Male|    No|Sun|Dinner|   3|0.16658733936220846|\n",
      "|     23.68|3.31|  Male|    No|Sun|Dinner|   2| 0.1397804054054054|\n",
      "|     24.59|3.61|Female|    No|Sun|Dinner|   4|0.14680764538430255|\n",
      "+----------+----+------+------+---+------+----+-------------------+\n",
      "only showing top 5 rows\n",
      "\n"
     ]
    }
   ],
   "source": [
    "# calculating tip percentage\n",
    "\n",
    "tips.withColumn(\"tip_percentage\", expr(\"tip / total_bill\")).show(5)"
   ]
  },
  {
   "cell_type": "code",
   "execution_count": 82,
   "metadata": {},
   "outputs": [
    {
     "name": "stdout",
     "output_type": "stream",
     "text": [
      "+------+----+----+\n",
      "|   sex|  No| Yes|\n",
      "+------+----+----+\n",
      "|Female|0.16|0.18|\n",
      "|  Male|0.16|0.15|\n",
      "+------+----+----+\n",
      "\n"
     ]
    }
   ],
   "source": [
    "# avg. tip percentage for ea. combination of male/female custoemrs\n",
    "\n",
    "tips.withColumn(\"tip_percentage\", col(\"tip\") / col(\"total_bill\"))\\\n",
    "    .groupby(\"sex\")\\\n",
    "        .pivot(\"smoker\")\\\n",
    "            .agg((round(mean(\"tip_percentage\"), 2)))\\\n",
    "                .show() "
   ]
  },
  {
   "cell_type": "code",
   "execution_count": 84,
   "metadata": {},
   "outputs": [],
   "source": [
    "# exercise number 4: weather datasets\n",
    "\n",
    "import vega_datasets\n",
    "weather = spark.createDataFrame(vega_datasets.data.seattle_weather())"
   ]
  },
  {
   "cell_type": "code",
   "execution_count": 86,
   "metadata": {},
   "outputs": [
    {
     "name": "stdout",
     "output_type": "stream",
     "text": [
      "+-------------------+-------------+--------+--------+----+-------+\n",
      "|               date|precipitation|temp_max|temp_min|wind|weather|\n",
      "+-------------------+-------------+--------+--------+----+-------+\n",
      "|2012-01-01 00:00:00|          0.0|    12.8|     5.0| 4.7|drizzle|\n",
      "|2012-01-02 00:00:00|         10.9|    10.6|     2.8| 4.5|   rain|\n",
      "|2012-01-03 00:00:00|          0.8|    11.7|     7.2| 2.3|   rain|\n",
      "|2012-01-04 00:00:00|         20.3|    12.2|     5.6| 4.7|   rain|\n",
      "|2012-01-05 00:00:00|          1.3|     8.9|     2.8| 6.1|   rain|\n",
      "+-------------------+-------------+--------+--------+----+-------+\n",
      "only showing top 5 rows\n",
      "\n"
     ]
    }
   ],
   "source": [
    "# showing the dataframe head\n",
    "weather.show(5)"
   ]
  },
  {
   "cell_type": "code",
   "execution_count": 90,
   "metadata": {},
   "outputs": [
    {
     "name": "stdout",
     "output_type": "stream",
     "text": [
      "+-------------------+-------------+--------+--------+----+-------+\n",
      "|               date|precipitation|temp_max|temp_min|wind|weather|\n",
      "+-------------------+-------------+--------+--------+----+-------+\n",
      "|2012-01-01 00:00:00|          0.0|  131.07|   105.8| 4.7|drizzle|\n",
      "|2012-01-02 00:00:00|         10.9|  123.94|   98.67| 4.5|   rain|\n",
      "|2012-01-03 00:00:00|          0.8|  127.51|  112.93| 2.3|   rain|\n",
      "|2012-01-04 00:00:00|         20.3|  129.13|  107.74| 4.7|   rain|\n",
      "|2012-01-05 00:00:00|          1.3|  118.44|   98.67| 6.1|   rain|\n",
      "+-------------------+-------------+--------+--------+----+-------+\n",
      "only showing top 5 rows\n",
      "\n"
     ]
    }
   ],
   "source": [
    "# convert celcius to fahrenheit using an equation\n",
    "\n",
    "weather = weather.withColumn(\n",
    "    \"temp_max\", round((col(\"temp_max\") * (9/5) + 32), 2))\\\n",
    "        .withColumn(\"temp_min\", round(col(\"temp_min\") * (9/5) + 32, 2))\n",
    "\n",
    "weather.show(5)"
   ]
  },
  {
   "cell_type": "code",
   "execution_count": 92,
   "metadata": {},
   "outputs": [
    {
     "name": "stdout",
     "output_type": "stream",
     "text": [
      "+----+------------------+\n",
      "|year|         sum(wind)|\n",
      "+----+------------------+\n",
      "|2012|            1244.7|\n",
      "|2013|1100.8000000000006|\n",
      "|2014|1236.5000000000007|\n",
      "|2015|1153.3000000000002|\n",
      "+----+------------------+\n",
      "\n"
     ]
    },
    {
     "name": "stdout",
     "output_type": "stream",
     "text": [
      "22/09/12 23:51:49 WARN HeartbeatReceiver: Removing executor driver with no recent heartbeats: 7199034 ms exceeds timeout 120000 ms\n",
      "22/09/12 23:51:49 WARN SparkContext: Killing executors is not supported by current scheduler.\n"
     ]
    }
   ],
   "source": [
    "# which year was the windiest?\n",
    "\n",
    "weather.withColumn(\"year\", year(\"date\"))\\\n",
    "    .groupby(\"year\")\\\n",
    "        .agg(sum(\"wind\")).show()"
   ]
  },
  {
   "cell_type": "code",
   "execution_count": null,
   "metadata": {},
   "outputs": [],
   "source": []
  }
 ],
 "metadata": {
  "kernelspec": {
   "display_name": "Python 3.9.12 ('base')",
   "language": "python",
   "name": "python3"
  },
  "language_info": {
   "codemirror_mode": {
    "name": "ipython",
    "version": 3
   },
   "file_extension": ".py",
   "mimetype": "text/x-python",
   "name": "python",
   "nbconvert_exporter": "python",
   "pygments_lexer": "ipython3",
   "version": "3.9.12"
  },
  "orig_nbformat": 4,
  "vscode": {
   "interpreter": {
    "hash": "40d3a090f54c6569ab1632332b64b2c03c39dcf918b08424e98f38b5ae0af88f"
   }
  }
 },
 "nbformat": 4,
 "nbformat_minor": 2
}
