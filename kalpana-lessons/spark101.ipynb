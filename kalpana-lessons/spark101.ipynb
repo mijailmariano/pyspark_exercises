{
 "cells": [
  {
   "cell_type": "code",
   "execution_count": 2,
   "metadata": {},
   "outputs": [],
   "source": [
    "# notebook dependencies\n",
    "import pyspark\n",
    "from pyspark.sql.functions import col, expr\n",
    "from pyspark.sql.functions import regexp_extract, regexp_replace\n",
    "\n",
    "# note: the pyspark avg and mean functions are aliases of eachother\n",
    "from pyspark.sql.functions import concat, sum, avg, min, max, count, mean, lit\n",
    "\n",
    "# note: the following import, imports all pyspark sql functions similar to above\n",
    "from pyspark.sql.functions import *\n",
    "\n",
    "# creating the spark instance\n",
    "spark = pyspark.sql.SparkSession.builder.getOrCreate()\n",
    "\n",
    "# pandas, numpy, and matplotlib imports\n",
    "import pandas as pd\n",
    "import numpy as np\n",
    "import matplotlib.pyplot as plt \n",
    "\n",
    "# pydatasets\n",
    "from pydataset import data\n",
    "\n",
    "# tqdm loading bar library\n",
    "from tqdm.notebook import tqdm, trange\n",
    "import time # to be used in loop iterations\n",
    "\n",
    "# disabling warnings\n",
    "import warnings\n",
    "warnings.filterwarnings('ignore')"
   ]
  },
  {
   "cell_type": "code",
   "execution_count": null,
   "metadata": {},
   "outputs": [],
   "source": [
    "# Create a spark data frame that contains your favorite programming languages.\n",
    "\n",
    "# The name of the column should be language\n",
    "# View the schema of the dataframe\n",
    "# Output the shape of the dataframe\n",
    "# Show the first 5 records in the dataframe"
   ]
  },
  {
   "cell_type": "code",
   "execution_count": 5,
   "metadata": {},
   "outputs": [
    {
     "data": {
      "text/plain": [
       "DataFrame[n: bigint, language: string]"
      ]
     },
     "execution_count": 5,
     "metadata": {},
     "output_type": "execute_result"
    }
   ],
   "source": [
    "# creating a pyspark dataframe\n",
    "\n",
    "df = pd.DataFrame({ \n",
    "    \"n\": np.arange(20), \n",
    "    \"language\": \"python\"\n",
    "})\n",
    "\n",
    "df = spark.createDataFrame(df)\n",
    "df"
   ]
  },
  {
   "cell_type": "code",
   "execution_count": 12,
   "metadata": {},
   "outputs": [
    {
     "name": "stdout",
     "output_type": "stream",
     "text": [
      "pyspark df shape: (20, 2)\n"
     ]
    }
   ],
   "source": [
    "# printing the pyspark dataframe shape\n",
    "\n",
    "print(f'pyspark df shape: {(df.count(), len(df.columns))}')"
   ]
  },
  {
   "cell_type": "code",
   "execution_count": 19,
   "metadata": {},
   "outputs": [
    {
     "name": "stdout",
     "output_type": "stream",
     "text": [
      "+-------+-----------------+--------+\n",
      "|summary|                n|language|\n",
      "+-------+-----------------+--------+\n",
      "|  count|               20|      20|\n",
      "|   mean|              9.5|    null|\n",
      "| stddev|5.916079783099616|    null|\n",
      "|    min|                0|  python|\n",
      "|    max|               19|  python|\n",
      "+-------+-----------------+--------+\n",
      "\n"
     ]
    }
   ],
   "source": [
    "# describing the pyspark df\n",
    "\n",
    "df.describe().show()"
   ]
  },
  {
   "cell_type": "code",
   "execution_count": 13,
   "metadata": {},
   "outputs": [
    {
     "name": "stdout",
     "output_type": "stream",
     "text": [
      "+---+--------+\n",
      "|  n|language|\n",
      "+---+--------+\n",
      "|  0|  python|\n",
      "|  1|  python|\n",
      "|  2|  python|\n",
      "|  3|  python|\n",
      "|  4|  python|\n",
      "+---+--------+\n",
      "only showing top 5 rows\n",
      "\n"
     ]
    }
   ],
   "source": [
    "# showing the first 5 records in the dataframe\n",
    "\n",
    "df.show(5)"
   ]
  },
  {
   "cell_type": "code",
   "execution_count": 23,
   "metadata": {},
   "outputs": [
    {
     "name": "stdout",
     "output_type": "stream",
     "text": [
      "+------------+-----+-----+----+---+----------+---+---+---+---+-------+\n",
      "|manufacturer|model|displ|year|cyl|     trans|drv|cty|hwy| fl|  class|\n",
      "+------------+-----+-----+----+---+----------+---+---+---+---+-------+\n",
      "|        audi|   a4|  1.8|1999|  4|  auto(l5)|  f| 18| 29|  p|compact|\n",
      "|        audi|   a4|  1.8|1999|  4|manual(m5)|  f| 21| 29|  p|compact|\n",
      "|        audi|   a4|  2.0|2008|  4|manual(m6)|  f| 20| 31|  p|compact|\n",
      "|        audi|   a4|  2.0|2008|  4|  auto(av)|  f| 21| 30|  p|compact|\n",
      "|        audi|   a4|  2.8|1999|  6|  auto(l5)|  f| 16| 26|  p|compact|\n",
      "+------------+-----+-----+----+---+----------+---+---+---+---+-------+\n",
      "only showing top 5 rows\n",
      "\n"
     ]
    }
   ],
   "source": [
    "# exercise number 2: Load the mpg dataset as a spark dataframe\n",
    "\n",
    "mpg = data(\"mpg\")\n",
    "mpg = spark.createDataFrame(mpg)\n",
    "\n",
    "mpg.show(5)"
   ]
  },
  {
   "cell_type": "code",
   "execution_count": 34,
   "metadata": {},
   "outputs": [
    {
     "name": "stdout",
     "output_type": "stream",
     "text": [
      "+--------------------+\n",
      "|      concat_example|\n",
      "+--------------------+\n",
      "|The 1999 a4 has a...|\n",
      "|The 1999 a4 has a...|\n",
      "|The 2008 a4 has a...|\n",
      "|The 2008 a4 has a...|\n",
      "|The 1999 a4 has a...|\n",
      "+--------------------+\n",
      "only showing top 5 rows\n",
      "\n"
     ]
    }
   ],
   "source": [
    "# Create 1 column of output that contains a message like the one below:\n",
    "# using a combination of pyspark functions (concat, expr, and lit?)\n",
    "\n",
    "# using the \"concatenate with separator method\"\n",
    "\n",
    "mpg.select(concat_ws(\n",
    "    \" \",\n",
    "    lit(\"The\"),\n",
    "    mpg.year,\n",
    "    mpg.model, \n",
    "    lit(\"has a\"),\n",
    "    mpg.cyl,\n",
    "    lit(\"cylinder enginge.\")).alias(\"concat_example\")\n",
    ").show(5)"
   ]
  },
  {
   "cell_type": "code",
   "execution_count": 37,
   "metadata": {},
   "outputs": [
    {
     "ename": "SyntaxError",
     "evalue": "EOL while scanning string literal (617943060.py, line 4)",
     "output_type": "error",
     "traceback": [
      "\u001b[0;36m  Input \u001b[0;32mIn [37]\u001b[0;36m\u001b[0m\n\u001b[0;31m    mpg.select(\"trans\").regexp_extract(\"transr'')\u001b[0m\n\u001b[0m                                                 ^\u001b[0m\n\u001b[0;31mSyntaxError\u001b[0m\u001b[0;31m:\u001b[0m EOL while scanning string literal\n"
     ]
    }
   ],
   "source": [
    "#  2b. Transform the trans column so that it only contains either manual or auto.\n",
    "# will use reg expression to accomplish this task\n",
    "\n",
    "mpg.select(\"trans\").regexp_extract(\"trans\", r'')"
   ]
  },
  {
   "cell_type": "code",
   "execution_count": null,
   "metadata": {},
   "outputs": [],
   "source": []
  }
 ],
 "metadata": {
  "kernelspec": {
   "display_name": "Python 3.9.12 ('base')",
   "language": "python",
   "name": "python3"
  },
  "language_info": {
   "codemirror_mode": {
    "name": "ipython",
    "version": 3
   },
   "file_extension": ".py",
   "mimetype": "text/x-python",
   "name": "python",
   "nbconvert_exporter": "python",
   "pygments_lexer": "ipython3",
   "version": "3.9.12"
  },
  "orig_nbformat": 4,
  "vscode": {
   "interpreter": {
    "hash": "40d3a090f54c6569ab1632332b64b2c03c39dcf918b08424e98f38b5ae0af88f"
   }
  }
 },
 "nbformat": 4,
 "nbformat_minor": 2
}
